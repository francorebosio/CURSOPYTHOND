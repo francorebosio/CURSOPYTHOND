{
 "cells": [
  {
   "cell_type": "markdown",
   "metadata": {},
   "source": [
    "# FLUJO DE CONTROL"
   ]
  },
  {
   "cell_type": "markdown",
   "metadata": {},
   "source": [
    "El flujo de control ayudará a nuestro programa en la toma de decisiones"
   ]
  },
  {
   "cell_type": "markdown",
   "metadata": {},
   "source": [
    "<center> <img src='https://4.bp.blogspot.com/_QWwb06N-r1Y/TMeaj_jf7aI/AAAAAAAAARA/CUtpkzy0Pjo/s1600/selectiva.png' width=\"400\" height=\"250\"></center>"
   ]
  },
  {
   "cell_type": "markdown",
   "metadata": {},
   "source": [
    "## 1. Flujo de control (if - else) "
   ]
  },
  {
   "cell_type": "markdown",
   "metadata": {},
   "source": [
    "El uso de condiciones nos permite tener un mayor control sobre el flujo del programa."
   ]
  },
  {
   "cell_type": "code",
   "execution_count": 1,
   "metadata": {},
   "outputs": [
    {
     "name": "stdout",
     "output_type": "stream",
     "text": [
      "hola\n"
     ]
    }
   ],
   "source": [
    "# Uso de la sentencia if (si)\n",
    "if True:\n",
    "    print('hola')"
   ]
  },
  {
   "cell_type": "code",
   "execution_count": 4,
   "metadata": {},
   "outputs": [
    {
     "name": "stdout",
     "output_type": "stream",
     "text": [
      "el valor de x es distinto de 8\n"
     ]
    }
   ],
   "source": [
    "# Sentencia else (si no)\n",
    "x=9\n",
    "if x==8 :\n",
    "    print('el valor de x es 8')\n",
    "else:\n",
    "    print('el valor de x es distinto de 8')"
   ]
  },
  {
   "cell_type": "code",
   "execution_count": 7,
   "metadata": {},
   "outputs": [
    {
     "name": "stdout",
     "output_type": "stream",
     "text": [
      "a vale 5\n",
      "y b vale 10\n"
     ]
    }
   ],
   "source": [
    "# uso de If anidado\n",
    "a = 5\n",
    "b = 10\n",
    "if a == 5:\n",
    "    print(\"a vale\",a)\n",
    "    \n",
    "    if b == 10:\n",
    "        print('y b vale',b)"
   ]
  },
  {
   "cell_type": "markdown",
   "metadata": {},
   "source": [
    "## 2. Sentencia elif (sino si)"
   ]
  },
  {
   "cell_type": "markdown",
   "metadata": {},
   "source": [
    "Se encadena a un if u otro elif para comprobar múltiples condiciones, siempre que las anteriores no se ejecuten:"
   ]
  },
  {
   "cell_type": "code",
   "execution_count": 5,
   "metadata": {},
   "outputs": [
    {
     "name": "stdout",
     "output_type": "stream",
     "text": [
      "el valor de x es 9\n"
     ]
    }
   ],
   "source": [
    "# Sentencia else (si no)\n",
    "x=9\n",
    "if x==8 :\n",
    "    print('el valor de x es 8')\n",
    "elif x==9:\n",
    "    print('el valor de x es 9')\n",
    "elif x==10:\n",
    "    print('el valor de x es 10')\n",
    "else:\n",
    "    print('el valor de x es distinto de 8, 9 o 10')"
   ]
  },
  {
   "cell_type": "code",
   "execution_count": null,
   "metadata": {},
   "outputs": [],
   "source": []
  },
  {
   "cell_type": "code",
   "execution_count": null,
   "metadata": {},
   "outputs": [],
   "source": []
  },
  {
   "cell_type": "code",
   "execution_count": null,
   "metadata": {},
   "outputs": [],
   "source": []
  },
  {
   "cell_type": "markdown",
   "metadata": {},
   "source": [
    "# EJERCICIOS"
   ]
  },
  {
   "cell_type": "markdown",
   "metadata": {},
   "source": [
    "#### 1.\n",
    "Crear un programa que permita decidir a una persona cruzar la calle o no según:\n",
    "- Si semáforo esta en verde cruzar la calle\n",
    "- Si semáforo esta en rojo o amarillo no cruzar\n",
    "\n",
    "La persona debe poder ingresar el estado del semáforo por teclado"
   ]
  },
  {
   "cell_type": "code",
   "execution_count": 6,
   "metadata": {},
   "outputs": [
    {
     "name": "stdin",
     "output_type": "stream",
     "text": [
      "El semaforo tiene color:  verDE\n"
     ]
    }
   ],
   "source": [
    "semaforo = input('El semaforo tiene color: ')"
   ]
  },
  {
   "cell_type": "code",
   "execution_count": 9,
   "metadata": {},
   "outputs": [
    {
     "data": {
      "text/plain": [
       "'VERDE'"
      ]
     },
     "execution_count": 9,
     "metadata": {},
     "output_type": "execute_result"
    }
   ],
   "source": [
    "#semaforo.lower() # a minusculas\n",
    "\n",
    "semaforo.upper() # a mayusculas"
   ]
  },
  {
   "cell_type": "code",
   "execution_count": 10,
   "metadata": {},
   "outputs": [],
   "source": [
    "semaforo = semaforo.lower()"
   ]
  },
  {
   "cell_type": "code",
   "execution_count": 11,
   "metadata": {},
   "outputs": [
    {
     "name": "stdout",
     "output_type": "stream",
     "text": [
      "cruzar la calle\n"
     ]
    }
   ],
   "source": [
    "if semaforo == 'verde':\n",
    "    print('cruzar la calle')\n",
    "elif semaforo == 'rojo'or semaforo == 'amarillo':\n",
    "    print('no cruzar')\n",
    "else:\n",
    "    print('no entiendo')"
   ]
  },
  {
   "cell_type": "markdown",
   "metadata": {},
   "source": [
    "#### 2.\n",
    "Escribir un programa que pregunte al usuario su edad y muestre por pantalla si es mayor de edad o no."
   ]
  },
  {
   "cell_type": "code",
   "execution_count": 4,
   "metadata": {},
   "outputs": [
    {
     "name": "stdin",
     "output_type": "stream",
     "text": [
      "Ingrese su edad:  16\n"
     ]
    }
   ],
   "source": [
    "# 1. preguntando la edad de una persona\n",
    "\n",
    "edad = int(input('Ingrese su edad: '))"
   ]
  },
  {
   "cell_type": "code",
   "execution_count": 6,
   "metadata": {},
   "outputs": [
    {
     "name": "stdout",
     "output_type": "stream",
     "text": [
      "La persona es menor de edad\n"
     ]
    }
   ],
   "source": [
    "if edad >=18:\n",
    "    print('La persona es mayor de edad')\n",
    "else:\n",
    "    print('La persona es menor de edad')"
   ]
  },
  {
   "cell_type": "code",
   "execution_count": null,
   "metadata": {},
   "outputs": [],
   "source": []
  },
  {
   "cell_type": "markdown",
   "metadata": {},
   "source": [
    "#### 3.\n",
    "Escribir un programa que almacene la cadena de caracteres <b>contraseña</b> en una variable, pregunte al usuario por la contraseña e imprima por pantalla si la contraseña introducida por el usuario coincide con la guardada en la variable sin tener en cuenta mayúsculas y minúsculas."
   ]
  },
  {
   "cell_type": "code",
   "execution_count": 3,
   "metadata": {},
   "outputs": [
    {
     "name": "stdin",
     "output_type": "stream",
     "text": [
      "registre su contraseña:  perro\n"
     ]
    }
   ],
   "source": [
    "contraseña = input(\"registre su contraseña: \")"
   ]
  },
  {
   "cell_type": "code",
   "execution_count": 4,
   "metadata": {},
   "outputs": [
    {
     "name": "stdin",
     "output_type": "stream",
     "text": [
      "ingrese su contraseña:  PERRO\n"
     ]
    }
   ],
   "source": [
    "contraseña2 = input(\"ingrese su contraseña: \")"
   ]
  },
  {
   "cell_type": "code",
   "execution_count": 8,
   "metadata": {},
   "outputs": [
    {
     "data": {
      "text/plain": [
       "'perro'"
      ]
     },
     "execution_count": 8,
     "metadata": {},
     "output_type": "execute_result"
    }
   ],
   "source": [
    "contraseña2.lower()"
   ]
  },
  {
   "cell_type": "markdown",
   "metadata": {},
   "source": [
    "### 4. \n",
    "Escribir un programa que pida al usuario un número entero y muestre por pantalla si es par o impar.\n"
   ]
  },
  {
   "cell_type": "code",
   "execution_count": 12,
   "metadata": {},
   "outputs": [
    {
     "name": "stdin",
     "output_type": "stream",
     "text": [
      "Ingrese un numero entero:  6\n"
     ]
    }
   ],
   "source": [
    "numero = int(input('Ingrese un numero entero: '))"
   ]
  },
  {
   "cell_type": "code",
   "execution_count": 13,
   "metadata": {},
   "outputs": [
    {
     "name": "stdout",
     "output_type": "stream",
     "text": [
      "El numero ingresado 6 es par\n"
     ]
    }
   ],
   "source": [
    "# numero % 2 -> resto de un numero\n",
    "\n",
    "if numero % 2 == 0:\n",
    "    print(f'El numero ingresado {numero} es par')\n",
    "else:\n",
    "    print('el numero ingresado {} NO es par'.format(numero))"
   ]
  },
  {
   "cell_type": "code",
   "execution_count": 14,
   "metadata": {},
   "outputs": [
    {
     "data": {
      "text/plain": [
       "'el numero ingresado 6 NO es par'"
      ]
     },
     "execution_count": 14,
     "metadata": {},
     "output_type": "execute_result"
    }
   ],
   "source": [
    "'el numero ingresado {} NO es par'.format(numero)"
   ]
  },
  {
   "cell_type": "code",
   "execution_count": 15,
   "metadata": {},
   "outputs": [
    {
     "data": {
      "text/plain": [
       "'El numero ingresado 6 es par'"
      ]
     },
     "execution_count": 15,
     "metadata": {},
     "output_type": "execute_result"
    }
   ],
   "source": [
    "f'El numero ingresado {numero} es par'"
   ]
  },
  {
   "cell_type": "markdown",
   "metadata": {},
   "source": [
    "#### 5.\n",
    "Los tramos impositivos para la declaración de la renta en un determinado país son los siguientes:\n",
    "\n",
    "<table>\n",
    "    <thead>\n",
    "        <th style=\"text-align: center\">Renta</th>\n",
    "        <th style=\"text-align: center\">% de Impuesto</th>\n",
    "    </thead>\n",
    "    <tbody>\n",
    "        <tr>\n",
    "            <td style=\"text-align: center\">Menos de 10000€</td>\n",
    "            <td style=\"text-align: center\">5%</td>\n",
    "        </tr>\n",
    "        <tr>\n",
    "            <td style=\"text-align: center\">Entre 10000€ y 20000€</td>\n",
    "            <td style=\"text-align: center\">15%</td>\n",
    "        </tr>\n",
    "        <tr>\n",
    "            <td style=\"text-align: center\">Entre 20000€ y 35000€</td>\n",
    "            <td style=\"text-align: center\">20%</td>\n",
    "        </tr>\n",
    "        <tr>\n",
    "            <td style=\"text-align: center\">Entre 35000€ y 60000€</td>\n",
    "            <td style=\"text-align: center\">30%</td>\n",
    "        </tr>\n",
    "        <tr>\n",
    "            <td style=\"text-align: center\">Más de 60000€</td>\n",
    "            <td style=\"text-align: center\">45%</td>\n",
    "        </tr>\n",
    "    </tbody>\n",
    "</table>\n"
   ]
  },
  {
   "cell_type": "markdown",
   "metadata": {},
   "source": [
    "Realizar un programa que pueda decir el % de impuestos que una persona deba pagar según su sueldo"
   ]
  },
  {
   "cell_type": "code",
   "execution_count": 13,
   "metadata": {},
   "outputs": [
    {
     "name": "stdin",
     "output_type": "stream",
     "text": [
      "ingrese su sueldo:  26000\n"
     ]
    }
   ],
   "source": [
    "sueldo = int(input(\"ingrese su sueldo: \"))"
   ]
  },
  {
   "cell_type": "code",
   "execution_count": 20,
   "metadata": {},
   "outputs": [
    {
     "name": "stdout",
     "output_type": "stream",
     "text": [
      "el impuesto a pagar asciende a 5200.0\n"
     ]
    }
   ],
   "source": [
    "if sueldo < 10000 :\n",
    "    print(f'el impuesto a pagar asciende a {sueldo*0.05}')\n",
    "elif sueldo >= 10000 and sueldo < 20000 :\n",
    "    print(f'el impuesto a pagar asciende a {sueldo*0.15}')\n",
    "elif sueldo >= 20000 and sueldo < 35000 :\n",
    "    print(f'el impuesto a pagar asciende a {sueldo*0.20}')\n",
    "elif sueldo >= 35000 and sueldo < 60000 :\n",
    "    print(f'el impuesto a pagar asciende a {sueldo*0.30}')   \n",
    "else :\n",
    "    print(f'el impuesto a pagar asciende a {sueldo*0.45}')"
   ]
  },
  {
   "cell_type": "markdown",
   "metadata": {},
   "source": [
    "#### 6. \n",
    "Realiza un programa que lea dos números por teclado y permita elegir entre 3 opciones en un menú:\n",
    "\n",
    "- Mostrar una suma de los dos números\n",
    "- Mostrar una resta de los dos números (el primero menos el segundo)\n",
    "- Mostrar una multiplicación de los dos números\n",
    "- En caso de introducir una opción inválida, el programa informará de que no es correcta.\n"
   ]
  },
  {
   "cell_type": "code",
   "execution_count": 21,
   "metadata": {},
   "outputs": [
    {
     "name": "stdin",
     "output_type": "stream",
     "text": [
      "ingrese primer número:  4\n",
      "ingrese segundo número:  4\n"
     ]
    }
   ],
   "source": [
    "numero1 = int(input(\"ingrese primer número: \"))\n",
    "numero2 = int(input(\"ingrese segundo número: \"))"
   ]
  },
  {
   "cell_type": "code",
   "execution_count": 22,
   "metadata": {},
   "outputs": [
    {
     "name": "stdout",
     "output_type": "stream",
     "text": [
      "8\n",
      "0\n",
      "16\n"
     ]
    }
   ],
   "source": [
    "print(numero1+numero2)\n",
    "print(numero1-numero2)\n",
    "print(numero1*numero2)"
   ]
  },
  {
   "cell_type": "markdown",
   "metadata": {},
   "source": [
    "#### 7.\n",
    "La pizzería Bella Napoli ofrece pizzas vegetarianas y no vegetarianas a sus clientes. Los ingredientes para cada tipo de pizza aparecen a continuación.\n",
    "\n",
    "- Ingredientes vegetarianos: Pimiento y tofu.\n",
    "- Ingredientes no vegetarianos: Peperoni, Jamón y Salmón.\n",
    "\n",
    "Escribir un programa que pregunte al usuario si quiere una pizza vegetariana o no, y en función de su respuesta le muestre un menú con los ingredientes disponibles para que elija. Solo se puede eligir un ingrediente además de la mozzarella y el tomate que están en todas la pizzas. Al final se debe mostrar por pantalla si la pizza elegida es vegetariana o no y todos los ingredientes que lleva."
   ]
  },
  {
   "cell_type": "code",
   "execution_count": 25,
   "metadata": {},
   "outputs": [
    {
     "name": "stdin",
     "output_type": "stream",
     "text": [
      "Desea un pizza vegetariana? si\n",
      "Escoja uno entre pimiento o tofu:  tofu\n"
     ]
    },
    {
     "name": "stdout",
     "output_type": "stream",
     "text": [
      "la pizza elegida si es vegetariana, y tiene los siguientes ingredientes: mozarella, tomate y tofu\n"
     ]
    }
   ],
   "source": [
    "opcion = input(\"Desea un pizza vegetariana?\")\n",
    "if opcion == 'si':\n",
    "    ingredientes = input (\"Escoja uno entre pimiento o tofu: \")\n",
    "else :\n",
    "    ingredientes = input (\"Escoja uno entre Peperoni, Jamón o Salmón: \")\n",
    "print(f'la pizza elegida {opcion} es vegetariana, y tiene los siguientes ingredientes: mozarella, tomate y {ingredientes}')"
   ]
  },
  {
   "cell_type": "code",
   "execution_count": null,
   "metadata": {},
   "outputs": [],
   "source": []
  }
 ],
 "metadata": {
  "kernelspec": {
   "display_name": "Python 3",
   "language": "python",
   "name": "python3"
  },
  "language_info": {
   "codemirror_mode": {
    "name": "ipython",
    "version": 3
   },
   "file_extension": ".py",
   "mimetype": "text/x-python",
   "name": "python",
   "nbconvert_exporter": "python",
   "pygments_lexer": "ipython3",
   "version": "3.8.5"
  }
 },
 "nbformat": 4,
 "nbformat_minor": 4
}
