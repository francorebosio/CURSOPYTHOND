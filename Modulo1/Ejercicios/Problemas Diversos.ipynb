{
 "cells": [
  {
   "cell_type": "markdown",
   "metadata": {},
   "source": [
    "# PROBLEMAS DIVERSOS"
   ]
  },
  {
   "cell_type": "markdown",
   "metadata": {},
   "source": [
    "<h3>1.</h3>\n",
    "Escribí un programa que solicite al usuario ingresar la cantidad de kilómetros recorridos por una motocicleta y la cantidad de litros de combustible que consumió durante ese recorrido. Mostrar el consumo de combustible por kilómetro."
   ]
  },
  {
   "cell_type": "markdown",
   "metadata": {},
   "source": [
    "<code>Kilómetros recorridos: 260\n",
    "Litros de combustible gastados: 12.5\n",
    "El consumo por kilómetro es de 20.8<code>"
   ]
  },
  {
   "cell_type": "code",
   "execution_count": 2,
   "metadata": {},
   "outputs": [
    {
     "name": "stdin",
     "output_type": "stream",
     "text": [
      "Ingrese la cantidad de kilómetros recorridos:  10\n",
      "Ingrese la cantidad de combustible gastado:  12\n"
     ]
    },
    {
     "name": "stdout",
     "output_type": "stream",
     "text": [
      "kilómetros recorridos: 10\n",
      "Litros de combustible gastados: 12\n",
      "el consumo por kilómetro es de 120\n"
     ]
    }
   ],
   "source": [
    "kilometros=int(input(\"Ingrese la cantidad de kilómetros recorridos: \"))\n",
    "combustible= int(input('Ingrese la cantidad de combustible gastado: '))\n",
    "print(f'kilómetros recorridos: {kilometros}')\n",
    "print(f'Litros de combustible gastados: {combustible}')\n",
    "print(f'el consumo por kilómetro es de {kilometros*combustible}')"
   ]
  },
  {
   "cell_type": "markdown",
   "metadata": {},
   "source": [
    "### 2.\n",
    "Escriba un programa que pida los coeficientes de una ecuación de segundo grado <code>(a x² + b x + c = 0)</code> y escriba la solución.\n",
    "\n",
    "Se recuerda que una ecuación de segundo grado puede no tener solución, tener una solución única, tener dos soluciones o que todos los números sean solución."
   ]
  },
  {
   "cell_type": "markdown",
   "metadata": {},
   "source": [
    "<img src='https://i.pinimg.com/originals/d3/f7/01/d3f701528ad56ce0f5a98d7c91722fd7.png'>"
   ]
  },
  {
   "cell_type": "markdown",
   "metadata": {},
   "source": [
    "Su programa debe indicar:\n",
    "- En caso la ecuación cuadrática tenga solución real, su programa debe brindar la solución\n",
    "- En caso su ecuación no tenga solución real, su programa debe brindar un mensaje que diga \"Ecuación no presenta solución real\""
   ]
  },
  {
   "cell_type": "code",
   "execution_count": 10,
   "metadata": {},
   "outputs": [
    {
     "name": "stdin",
     "output_type": "stream",
     "text": [
      "indicar el coeficiente cuadrático:  2\n",
      "indicar el coeficiente lineal:  4\n",
      "indicar el coeficiente independiente:  1\n"
     ]
    },
    {
     "name": "stdout",
     "output_type": "stream",
     "text": [
      "Las soluciones de la ecuación son 0.0 y -2.0\n"
     ]
    }
   ],
   "source": [
    "a=int(input('indicar el coeficiente cuadrático: '))\n",
    "b=int(input('indicar el coeficiente lineal: '))\n",
    "c=int(input('indicar el coeficiente independiente: '))\n",
    "\n",
    "d= b**2-4*a*c\n",
    "\n",
    "if d == 0 :\n",
    "    print(f'La solución a la ecuación es {-b/2*a}')\n",
    "elif d>0 :\n",
    "    print(f'Las soluciones de la ecuación son {(-b+d**1/2)/(2*a)} y {(-b-d**1/2)/(2*a)}')\n",
    "else :\n",
    "    print('ecuación no presenta solución real')\n"
   ]
  }
 ],
 "metadata": {
  "kernelspec": {
   "display_name": "Python 3",
   "language": "python",
   "name": "python3"
  },
  "language_info": {
   "codemirror_mode": {
    "name": "ipython",
    "version": 3
   },
   "file_extension": ".py",
   "mimetype": "text/x-python",
   "name": "python",
   "nbconvert_exporter": "python",
   "pygments_lexer": "ipython3",
   "version": "3.8.5"
  }
 },
 "nbformat": 4,
 "nbformat_minor": 4
}
